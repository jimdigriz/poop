{
 "cells": [
  {
   "cell_type": "markdown",
   "metadata": {},
   "source": [
    "# Introduction"
   ]
  },
  {
   "cell_type": "markdown",
   "metadata": {},
   "source": [
    "Welcome to the start of your journey in learning to code with kdb+/q! \n",
    "\n",
    "We're very happy to have you learning with us and to welcome you as q-newbie (aka a q-bie). To get started - expand the below sections by clicking on the arrow (`>`)."
   ]
  },
  {
   "cell_type": "markdown",
   "metadata": {
    "heading_collapsed": true
   },
   "source": [
    "## Jupyter Notebook overview"
   ]
  },
  {
   "cell_type": "markdown",
   "metadata": {
    "hidden": true
   },
   "source": [
    "This course has been designed to be taught primarily through the medium of [Jupyter Notebooks](https://jupyter.org/), like this one we are using right now.\n",
    "\n",
    "Jupyter notebooks are a medium that allows the blending of written documentation (like this introductory cell here) with interactive code blocks. We will specifically be using [JupyterQ Notebooks](https://code.kx.com/q/interfaces/jupyterq/), which means that the embedded code blocks will be kdb+/q code. \n",
    "\n",
    "Your first code block is below - to run the code toggle your cursor to the selected cell and hit the `Run` button at the top of the screen. "
   ]
  },
  {
   "cell_type": "code",
   "execution_count": null,
   "metadata": {
    "hidden": true
   },
   "outputs": [],
   "source": [
    "2+2"
   ]
  },
  {
   "cell_type": "markdown",
   "metadata": {
    "hidden": true
   },
   "source": [
    "When a code cell executes correctly, we can see the output delivered in a space below the cell. In many of these code blocks there will also be comments - depending on the size of your screen you may need to scroll in the cell to read all the comments.\n",
    "\n",
    "For ease of use, we recommend familiarizing yourself with the shortcuts for cell execution and navigation - these vary across host devices, but can be found under:\n",
    ">Help --> Keyboard Shortcuts"
   ]
  },
  {
   "cell_type": "markdown",
   "metadata": {
    "hidden": true
   },
   "source": [
    "Within the Jupyter notebook setup sections are grouped under headings - you've already used the expandable button to see this section! Please take care when going through that you don't miss any sections.\n",
    "\n",
    "The contents section of a notebook can be toggled on and off by the contents button at the most right end of the toolbar at the top of your notebook, this can be very helpful for making sure you've covered all sections. "
   ]
  },
  {
   "cell_type": "markdown",
   "metadata": {
    "heading_collapsed": true
   },
   "source": [
    "## Course tutorial\n"
   ]
  },
  {
   "cell_type": "markdown",
   "metadata": {
    "hidden": true
   },
   "source": [
    "**Structure** \n",
    "\n",
    "The course has been laid out as a series of individual modules denoted by separate directory/folder structures. Within each module there are Jupyter Notebooks containing material on that particular topic to work though. Further detail on the modules and course layout is available within *Course Curriculum*.\n",
    "\n",
    "**Startup**\n",
    "\n",
    "Each notebook will start with a code cell that loads the required material for the section - this cell will automatically run each time you start a notebook, without this the code cells may not execute properly. This cell will not run properly when working locally.\n",
    "\n",
    "**Videos**\n",
    "\n",
    "There are a number of videos included throughout the material - these will be playable in a cell within the JupyterQ notebook environment. If you are a fast watching, right clicking on the video gives you a number of options for video speed. These videos will not run properly when working locally.\n",
    "\n",
    "\n",
    "**Q-bee Notes**\n",
    "\n",
    "Throughout the course, you may see some \"notes from the Q bee\" who will highlight certain information that may be of note. These sections will be shown like the below:"
   ]
  },
  {
   "cell_type": "markdown",
   "metadata": {
    "hidden": true
   },
   "source": [
    "<img src=\"qbies.png\" style=\"width: 50px;padding-right:5px;padding-top:5px;padding-left:5px;\" align=\"left\"/>\n",
    "\n",
    "<p style='color:#273a6e'><i> Keep an eye out for me! I'll usually highlight something important, like potential \"gotchas\", subtle syntax notes or help guide you to your next section. </i></p>"
   ]
  },
  {
   "cell_type": "markdown",
   "metadata": {
    "hidden": true
   },
   "source": [
    "**Exercises** \n",
    "\n",
    "Throughout the material there are interactive exercises to be completed, this will be clearly indicated like the example below. There will be a solution to accompany all exercises, so you can verify your answers before moving on.  To see the solution just click on the \"Show Solution\" indicator. "
   ]
  },
  {
   "cell_type": "markdown",
   "metadata": {
    "hidden": true,
    "solution2": "hidden",
    "solution2_first": true
   },
   "source": [
    "##### Exercise \n",
    "\n",
    "Let's get started with our first bit of code - type \"Hello world!\" in the cell below to begin! "
   ]
  },
  {
   "cell_type": "code",
   "execution_count": 1,
   "metadata": {
    "hidden": true,
    "solution2": "hidden"
   },
   "outputs": [
    {
     "data": {
      "text/plain": [
       "\"Hello world!\"\n"
      ]
     },
     "execution_count": 1,
     "metadata": {},
     "output_type": "execute_result"
    }
   ],
   "source": [
    "//This is a comment! \n",
    "//run this cell to see your output\n",
    "\"Hello world!\""
   ]
  },
  {
   "cell_type": "code",
   "execution_count": null,
   "metadata": {
    "hidden": true
   },
   "outputs": [],
   "source": [
    "//write your code below"
   ]
  },
  {
   "cell_type": "markdown",
   "metadata": {
    "heading_collapsed": true
   },
   "source": [
    "## Course Curriculum"
   ]
  },
  {
   "cell_type": "markdown",
   "metadata": {
    "hidden": true
   },
   "source": [
    "The course is designed to be completed over the course of 3 days. Most of the course is delivered using these Jupyter notebooks, but the final section on Interprocess communication (IPC) is delivered via the Kx Developer IDE, as is the Final Project which is required to be completed for certification.\n",
    "\n",
    "The order in which the modules should be completed is below: \n",
    "\n",
    "| Day| Module(s)   |\n",
    "|:------|:------|\n",
    "|   1 | Atoms & Primitives|\n",
    "|1| Lists |  \n",
    "|1| String Manipulation| \n",
    "|1|Casting | \n",
    "| 1| Functions & Projections | \n",
    "|2| Basic Iterators|\n",
    "|2|Execution Control|\n",
    "|2|Scripting & Logging| \n",
    "|2| Dictionaries | \n",
    "|2| Tables| \n",
    "|3|Table Queries (qSQL)| \n",
    "|3| Joins |\n",
    "|3|Working with Files|\n",
    "\n",
    "The above will all be delivered using these Jupyter notebooks. \n",
    "\n",
    "On the final day, the IPC and the Final Project are delivered via the Kx Developer IDE:\n",
    "\n",
    "| Day| Module(s)   |\n",
    "|:------|:------|\n",
    "|3| IPC |\n",
    "|3|Final Project|\n"
   ]
  },
  {
   "cell_type": "markdown",
   "metadata": {
    "heading_collapsed": true
   },
   "source": [
    "## Course Completion"
   ]
  },
  {
   "cell_type": "markdown",
   "metadata": {
    "hidden": true
   },
   "source": [
    "For all modules there are accompanying Exercises. \n",
    "\n",
    "At the end of the course in order to receive the certification, the post course survey and the final project need to be completed. \n",
    "\n",
    "The final project involves: \n",
    "+ Loading Data \n",
    "+ Cleaning Data \n",
    "+ Analyzing Data \n",
    "\n",
    "Once completed it can be submitted - if all tests pass then this will be marked as successfully submitted and certification will be sent (pending survey completion)."
   ]
  },
  {
   "cell_type": "markdown",
   "metadata": {},
   "source": [
    "# Lets Get Going!\n",
    "<img src=\"qbies.png\" style=\"width: 200px;\" />"
   ]
  }
 ],
 "metadata": {
  "kernelspec": {
   "display_name": "Q (kdb+)",
   "language": "q",
   "name": "qpk"
  },
  "language_info": {
   "file_extension": ".q",
   "mimetype": "text/x-q",
   "name": "q",
   "version": "3.6.0"
  },
  "toc": {
   "base_numbering": 1,
   "nav_menu": {},
   "number_sections": true,
   "sideBar": true,
   "skip_h1_title": false,
   "title_cell": "Table of Contents",
   "title_sidebar": "Contents",
   "toc_cell": false,
   "toc_position": {},
   "toc_section_display": true,
   "toc_window_display": true
  }
 },
 "nbformat": 4,
 "nbformat_minor": 4
}
